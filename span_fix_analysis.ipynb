{
 "cells": [
  {
   "cell_type": "code",
   "execution_count": 4,
   "metadata": {},
   "outputs": [],
   "source": [
    "import json\n",
    "import pandas as pd"
   ]
  },
  {
   "cell_type": "code",
   "execution_count": null,
   "metadata": {},
   "outputs": [],
   "source": [
    "# What is a \"change\"? Could be any of these:\n",
    "# 1. Number of edits\n",
    "# 2. Number of deletions before/after\n",
    "# 3. Number of paraphrases before/after\n",
    "# 4. Increase/decrease in the number of edits"
   ]
  },
  {
   "cell_type": "code",
   "execution_count": 7,
   "metadata": {},
   "outputs": [],
   "source": [
    "# Creates a list of dict matching the alignments before and after span-fixing\n",
    "def match_changes(filename_before, filename_after, batch=None):\n",
    "    with open(filename_before) as f, open(filename_after) as g:\n",
    "        orig = json.load(f)\n",
    "        fixed = json.load(g)\n",
    "\n",
    "    print(f\"Matching: {filename_before} ==> {filename_after}\")\n",
    "\n",
    "    matched_changes = []\n",
    "    for fixed_set in fixed:\n",
    "        # Find the matching sentence set between orig and fixed\n",
    "        curr = 0\n",
    "        while orig[curr]['ID'] != fixed_set['ID']:\n",
    "            curr += 1\n",
    "        \n",
    "        # Combine the sentences within both sets\n",
    "        orig_set = orig[curr]['Deletions'] + orig[curr]['Paraphrases'] + orig[curr]['Splittings']\n",
    "        for fixed_sent in fixed_set['Deletions'] + fixed_set['Paraphrases'] + fixed_set['Splittings']:\n",
    "            # Find the matching sentence between orig and fixed\n",
    "            curr = 0\n",
    "            while fixed_sent[1] != orig_set[curr][1]:\n",
    "                curr += 1\n",
    "            \n",
    "            # Append the matched set the the final dict\n",
    "            matched_changes.append({\n",
    "                \"Batch\": batch,\n",
    "                \"Worker\": fixed_set['Worker'],\n",
    "                \"Original\": fixed_set['Original'],\n",
    "                \"Simplified\": fixed_sent[0], \n",
    "                \"System\": fixed_sent[1],\n",
    "                \"Alignment Before\": orig_set[curr][2:], \n",
    "                \"Alignment After\": fixed_sent[2:]\n",
    "            })\n",
    "\n",
    "    return matched_changes"
   ]
  },
  {
   "cell_type": "code",
   "execution_count": 43,
   "metadata": {},
   "outputs": [
    {
     "name": "stdout",
     "output_type": "stream",
     "text": [
      "Matching: batch_1_1_span_fixing.json ==> batch_1_2_marcus_simplification_rating.json\n",
      "Matching: batch_2_1_span_fixing.json ==> batch_2_2_simplification_rating.json\n",
      "Matching: batch_3_1_span_fixing.json ==> batch_3_2_simplification_rating.json\n"
     ]
    }
   ],
   "source": [
    "matched = \\\n",
    "    match_changes(\"data/batch_1_1_span_fixing.json\",\"data/batch_1_2_marcus_simplification_rating.json\", batch=1) + \\\n",
    "    match_changes(\"data/batch_2_1_span_fixing.json\",\"data/batch_2_2_simplification_rating.json\", batch=2) + \\\n",
    "    match_changes(\"data/batch_3_1_span_fixing.json\",\"data/batch_3_2_simplification_rating.json\", batch=3)"
   ]
  },
  {
   "cell_type": "code",
   "execution_count": 68,
   "metadata": {},
   "outputs": [
    {
     "data": {
      "text/plain": [
       "count    1800.000000\n",
       "mean        3.584444\n",
       "std         2.614277\n",
       "min         0.000000\n",
       "25%         2.000000\n",
       "50%         3.000000\n",
       "75%         5.000000\n",
       "max        16.000000\n",
       "dtype: float64"
      ]
     },
     "execution_count": 68,
     "metadata": {},
     "output_type": "execute_result"
    }
   ],
   "source": [
    "# Details the number of alignments before editsx\n",
    "pd.Series([len(x['Alignment Before']) for x in matched]).describe()"
   ]
  },
  {
   "cell_type": "code",
   "execution_count": 46,
   "metadata": {},
   "outputs": [],
   "source": [
    "# Count the change in the number of edits\n",
    "def count_len_changes(matched):\n",
    "    len_changes = [len(edit['Alignment After']) - len(edit['Alignment Before']) for edit in matched]\n",
    "    return len_changes"
   ]
  },
  {
   "cell_type": "code",
   "execution_count": 47,
   "metadata": {},
   "outputs": [],
   "source": [
    "# Count the \"Average number of changes\"\n",
    "def count_avg_changes(matched):\n",
    "    # look at each edit from original to fixed\n",
    "    # for each edit in the fixed\n",
    "        # if it exists in the original, don't count\n",
    "        # if it doesn't increment the change counter\n",
    "\n",
    "    for edit in matched:\n",
    "        edit['Changes'] = 0\n",
    "        for span_fixed in edit['Alignment After']:\n",
    "            found = False\n",
    "            for span_before in edit['Alignment Before']:\n",
    "                if span_fixed == span_before:\n",
    "                    found = True\n",
    "            if found:\n",
    "                edit['Changes'] += 1\n",
    "\n",
    "        # Account for a deleted change\n",
    "        edit['Changes'] = len(edit['Alignment After']) + len(edit['Alignment Before']) - (edit['Changes'] * 2)\n",
    "\n",
    "    return matched"
   ]
  },
  {
   "cell_type": "code",
   "execution_count": 53,
   "metadata": {},
   "outputs": [
    {
     "data": {
      "text/plain": [
       "0     0.367778\n",
       "2     0.146667\n",
       "1     0.111667\n",
       "3     0.105556\n",
       "4     0.090556\n",
       "5     0.062778\n",
       "6     0.045556\n",
       "7     0.022222\n",
       "8     0.018889\n",
       "9     0.012222\n",
       "10    0.008333\n",
       "14    0.002778\n",
       "11    0.002222\n",
       "15    0.001111\n",
       "13    0.001111\n",
       "18    0.000556\n",
       "dtype: float64"
      ]
     },
     "execution_count": 53,
     "metadata": {},
     "output_type": "execute_result"
    }
   ],
   "source": [
    "# Distribution of the number of changes\n",
    "pd.Series([x['Changes'] for x in count_avg_changes(matched)]).value_counts() / len(matched)"
   ]
  },
  {
   "cell_type": "code",
   "execution_count": 19,
   "metadata": {},
   "outputs": [],
   "source": [
    "# Count the number of edits that had absolutely no changes\n",
    "def count_no_changes(matched):\n",
    "    no_changes = 0\n",
    "    for edit in matched:\n",
    "        same = True\n",
    "        if len(edit['Alignment Before']) != len(edit['Alignment After']):\n",
    "            same = False\n",
    "        else:\n",
    "            for i in range(len(edit['Alignment Before'])):\n",
    "                for j in range(3):\n",
    "                    if edit['Alignment Before'][i][j] != edit['Alignment After'][i][j]:\n",
    "                        same = False\n",
    "        if same:\n",
    "            no_changes += 1\n",
    "    return no_changes"
   ]
  },
  {
   "cell_type": "code",
   "execution_count": 20,
   "metadata": {},
   "outputs": [],
   "source": [
    "# Count the change in deletions/paraphrases\n",
    "def count_type_changes(matched, type_=\"del\"):\n",
    "    type_id = None\n",
    "    if type_ == \"del\":\n",
    "        type_id = 0\n",
    "    elif type_ == \"par\":\n",
    "        type_id = 1\n",
    "\n",
    "    # count the deletions/paraphrases before\n",
    "    total_type_change = []\n",
    "    for edit in matched:\n",
    "        types = 0\n",
    "        for change in edit['Alignment Before']:\n",
    "            if change[0] == type_id:\n",
    "                types += 1\n",
    "        for change in edit['Alignment After']:\n",
    "            if change[0] == type_id:\n",
    "                types -= 1\n",
    "        total_type_change.append(types)\n",
    "    return total_type_change"
   ]
  },
  {
   "cell_type": "code",
   "execution_count": null,
   "metadata": {},
   "outputs": [
    {
     "data": {
      "text/plain": [
       "647"
      ]
     },
     "metadata": {},
     "output_type": "display_data"
    }
   ],
   "source": [
    "# Counts the number not changed\n",
    "count_no_changes(matched)"
   ]
  },
  {
   "cell_type": "code",
   "execution_count": 57,
   "metadata": {},
   "outputs": [
    {
     "data": {
      "text/plain": [
       "count    1800.000000\n",
       "mean       -0.582222\n",
       "std         1.341150\n",
       "min        -6.000000\n",
       "25%        -1.000000\n",
       "50%         0.000000\n",
       "75%         0.000000\n",
       "max         4.000000\n",
       "dtype: float64"
      ]
     },
     "execution_count": 57,
     "metadata": {},
     "output_type": "execute_result"
    }
   ],
   "source": [
    "# Statistics on the change in the length of edits\n",
    "pd.Series(count_len_changes(matched)).describe()"
   ]
  },
  {
   "cell_type": "code",
   "execution_count": 66,
   "metadata": {},
   "outputs": [
    {
     "data": {
      "text/plain": [
       " 0    0.672778\n",
       " 1    0.129444\n",
       "-1    0.122222\n",
       " 2    0.030000\n",
       "-2    0.026667\n",
       " 3    0.008333\n",
       "-3    0.005000\n",
       "-4    0.002222\n",
       " 4    0.001667\n",
       "-7    0.001111\n",
       "-5    0.000556\n",
       "dtype: float64"
      ]
     },
     "execution_count": 66,
     "metadata": {},
     "output_type": "execute_result"
    }
   ],
   "source": [
    "# Statistics on the change in the number of deletions\n",
    "pd.Series(count_type_changes(matched, type_=\"del\")).value_counts() / len(matched)"
   ]
  },
  {
   "cell_type": "code",
   "execution_count": 64,
   "metadata": {},
   "outputs": [
    {
     "data": {
      "text/plain": [
       " 0    0.548889\n",
       " 1    0.228889\n",
       " 2    0.100556\n",
       " 3    0.046667\n",
       "-1    0.038889\n",
       "-2    0.015000\n",
       " 4    0.013889\n",
       " 5    0.003889\n",
       "-3    0.001111\n",
       "-4    0.001111\n",
       " 6    0.001111\n",
       "dtype: float64"
      ]
     },
     "execution_count": 64,
     "metadata": {},
     "output_type": "execute_result"
    }
   ],
   "source": [
    "# ^^ but for paraphrases\n",
    "pd.Series(count_type_changes(matched, type_=\"par\")).value_counts() / len(matched)"
   ]
  },
  {
   "cell_type": "code",
   "execution_count": 30,
   "metadata": {},
   "outputs": [],
   "source": [
    "# For David's project: Recover the highest rated paraphrase sentence in each batch\n",
    "import json\n",
    "\n",
    "def extract_sents(filename, batch=None):\n",
    "    with open(filename) as f:\n",
    "        annotations = json.load(f)\n",
    "\n",
    "    return [{\n",
    "        \"Batch\": batch,\n",
    "        \"ID\": sent['ID'],\n",
    "        \"Original\": sent['Original'],\n",
    "        \"Simplified\": sent['Paraphrases'][0][1],\n",
    "        \"Rating\": sent['Paraphrases'][0][0],\n",
    "        \"System\": sent['Paraphrases'][0][2]\n",
    "    } for sent in annotations]\n",
    "\n",
    "extracted = \\\n",
    "    extract_sents(\"data/batch_2_3_marcus_final.json\", batch=2) + \\\n",
    "    extract_sents(\"data/batch_3_3_marcus_final.json\", batch=3)\n",
    "\n",
    "with open('../phrase-alignment/code/top_sent_mounica.json', 'w', encoding='utf-8') as f:\n",
    "    json.dump(extracted, f, ensure_ascii=False, indent=4)"
   ]
  }
 ],
 "metadata": {
  "interpreter": {
   "hash": "63fd5069d213b44bf678585dea6b12cceca9941eaf7f819626cde1f2670de90d"
  },
  "kernelspec": {
   "display_name": "Python 3 Root Install",
   "language": "python",
   "name": "python3"
  },
  "language_info": {
   "codemirror_mode": {
    "name": "ipython",
    "version": 3
   },
   "file_extension": ".py",
   "mimetype": "text/x-python",
   "name": "python",
   "nbconvert_exporter": "python",
   "pygments_lexer": "ipython3",
   "version": "3.9.0"
  }
 },
 "nbformat": 4,
 "nbformat_minor": 4
}
