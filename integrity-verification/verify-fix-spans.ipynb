{
 "cells": [
  {
   "cell_type": "code",
   "execution_count": 68,
   "metadata": {},
   "outputs": [],
   "source": [
    "import copy\n",
    "import json"
   ]
  },
  {
   "cell_type": "code",
   "execution_count": 69,
   "metadata": {},
   "outputs": [],
   "source": [
    "def findEntry(hits, target):\n",
    "    for i in range(len(hits)):\n",
    "        if hits[i]['ID'] == target:\n",
    "            return i\n",
    "    return None"
   ]
  },
  {
   "cell_type": "code",
   "execution_count": 70,
   "metadata": {},
   "outputs": [],
   "source": [
    "def findMatches(hits, target):\n",
    "    out = []\n",
    "    for i in range(len(hits)):\n",
    "        if hits[i]['ID'] == target:\n",
    "            out.append(i)\n",
    "    return out"
   ]
  },
  {
   "cell_type": "markdown",
   "metadata": {},
   "source": [
    "## Create a JSON of To-Correct Spans"
   ]
  },
  {
   "cell_type": "code",
   "execution_count": 71,
   "metadata": {},
   "outputs": [],
   "source": [
    "with open('../data/first_batch_simplification_rating.json') as f, open('../data/first_batch_span_fixing.json') as g:\n",
    "    simp = json.load(f)\n",
    "    span = sorted(json.load(g), key=lambda x: x[\"ID\"])"
   ]
  },
  {
   "cell_type": "code",
   "execution_count": 86,
   "metadata": {},
   "outputs": [
    {
     "name": "stdout",
     "output_type": "stream",
     "text": [
      "3\n"
     ]
    }
   ],
   "source": [
    "# This just gets all sentences where the before and after the span fixing step, sentences didn't match\n",
    "incorrect = []\n",
    "seen = []\n",
    "\n",
    "# iterate through the sentences in simp\n",
    "for hit in simp:\n",
    "    # find their corresponding ID entry in span (span is sorted so it's just an array)\n",
    "    gold = span[hit['ID']]\n",
    "    \n",
    "    # sort both pairs of entries by system type (this should be in the same order anyways)\n",
    "\n",
    "    # compare the sentences\n",
    "    for _type in ['Deletions', 'Paraphrases', 'Splittings']:\n",
    "        i = 0\n",
    "        for entry in hit[_type]:\n",
    "            if gold[_type][i][0] != entry[0]:\n",
    "                if hit['ID'] not in [x['ID'] for x in incorrect]:\n",
    "                    # record all the incorrectly saved sentences\n",
    "                    incorrect.append({\n",
    "                        \"ID\": hit['ID'],\n",
    "                        \"Original\": gold[\"Original\"],\n",
    "                        \"Deletions\": [],\n",
    "                        \"Paraphrases\": [],\n",
    "                        \"Splittings\": []\n",
    "                    })\n",
    "                if gold[_type][i][0] not in [x[0] for x in incorrect[findEntry(incorrect, hit['ID'])][_type]]:\n",
    "                    incorrect[findEntry(incorrect, hit['ID'])][_type].append(gold[_type][i])\n",
    "            i += 1\n",
    "incorrect = sorted(incorrect, key=lambda x: x[\"ID\"])\n",
    "\n",
    "print(len(incorrect))"
   ]
  },
  {
   "cell_type": "code",
   "execution_count": 73,
   "metadata": {},
   "outputs": [],
   "source": [
    "# with open('../data/david_personally_fix_spans_for_these.json', 'w') as f:\n",
    "#     json.dump(incorrect, f)"
   ]
  },
  {
   "cell_type": "markdown",
   "metadata": {
    "tags": []
   },
   "source": [
    "## Stitch in My Fixed Data"
   ]
  },
  {
   "cell_type": "code",
   "execution_count": 84,
   "metadata": {},
   "outputs": [],
   "source": [
    "for fix_path in os.listdir('../mturk/david_manual_fixes_on_batch1/'):\n",
    "    with open(f'../mturk/david_manual_fixes_on_batch1/{fix_path}') as f:\n",
    "        fix = json.load(f)[0]\n",
    "        \n",
    "        # Iterates through entries in the fixed spans\n",
    "        for _type in ['Deletions', 'Paraphrases', 'Splittings']:\n",
    "            for entry in fix[_type]:                \n",
    "                # Finds the simplifications which match the to-fix entry\n",
    "                for i in findMatches(simp, fix['ID']):\n",
    "                    for j in range(len(simp[i][_type])):\n",
    "                        if simp[i][_type][j][1] == entry[1]:\n",
    "                            \n",
    "                            # Pastes the entry\n",
    "                            simp[i][_type][j] = copy.deepcopy(entry)"
   ]
  },
  {
   "cell_type": "code",
   "execution_count": 89,
   "metadata": {},
   "outputs": [],
   "source": [
    "with open('../data/fixed_first_batch_simplification_rating.json', 'w') as f:\n",
    "    json.dump(simp, f)"
   ]
  },
  {
   "cell_type": "markdown",
   "metadata": {},
   "source": [
    "## Check for Broken Spans\n",
    "The interface still isn't perfect for saving spans. Determine messed up paraphrase spans"
   ]
  },
  {
   "cell_type": "code",
   "execution_count": 127,
   "metadata": {},
   "outputs": [],
   "source": [
    "with open('../data/fixed_first_batch_simplification_rating.json') as f:\n",
    "    fixed_simp = json.load(f)"
   ]
  },
  {
   "cell_type": "code",
   "execution_count": 128,
   "metadata": {},
   "outputs": [],
   "source": [
    "for i in range(len(fixed_simp)):\n",
    "    for _type in ['Deletions', 'Paraphrases', 'Splittings']:\n",
    "        for entry in fixed_simp[i][_type]:\n",
    "            for edit in entry[2:]:\n",
    "                if edit[0] != 1 and edit[1] - edit[2] != 0:\n",
    "                    print('deletion spans have non-zero differences')\n",
    "                if edit[0] == 1 and edit[2] < edit[1]:\n",
    "                    # print('paraphrase has its second value larger than its first value')\n",
    "                    print(entry)"
   ]
  }
 ],
 "metadata": {
  "kernelspec": {
   "display_name": "Python 3 Root Install",
   "language": "python",
   "name": "python3"
  },
  "language_info": {
   "codemirror_mode": {
    "name": "ipython",
    "version": 3
   },
   "file_extension": ".py",
   "mimetype": "text/x-python",
   "name": "python",
   "nbconvert_exporter": "python",
   "pygments_lexer": "ipython3",
   "version": "3.9.0"
  }
 },
 "nbformat": 4,
 "nbformat_minor": 4
}
