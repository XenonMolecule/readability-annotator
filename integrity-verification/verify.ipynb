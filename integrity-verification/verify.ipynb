{
 "cells": [
  {
   "cell_type": "code",
   "execution_count": 1,
   "metadata": {},
   "outputs": [],
   "source": [
    "import json"
   ]
  },
  {
   "cell_type": "code",
   "execution_count": 2,
   "metadata": {},
   "outputs": [],
   "source": [
    "with open(\"../data/first_batch_categorization.json\") as f, open(\"../data/first_batch_span_fixing.json\") as g:\n",
    "    cat = sorted(json.load(f), key=lambda x: x[\"ID\"])\n",
    "    span = sorted(json.load(g), key=lambda x: x[\"ID\"])"
   ]
  },
  {
   "cell_type": "markdown",
   "metadata": {
    "tags": []
   },
   "source": [
    "## Solve the problem through a mapping without understanding it"
   ]
  },
  {
   "cell_type": "code",
   "execution_count": 3,
   "metadata": {},
   "outputs": [],
   "source": [
    "import copy\n",
    "span_new = copy.deepcopy(span)\n",
    "\n",
    "# For each HIT\n",
    "for i in range(len(span_new)):\n",
    "    # created a combined list of all cat sentences\n",
    "    cat_combined = cat[i]['Deletions'] + cat[i]['Paraphrases'] + cat[i]['Splittings']\n",
    "    cat_combined_systems = [x[1] for x in cat_combined]\n",
    "\n",
    "    # For each category in {Deletions, Paraphrases, Splittings}\n",
    "    for category in ['Deletions', 'Paraphrases', 'Splittings']:        \n",
    "        # For each span sentence in category\n",
    "        for j in range(len(span_new[i][category])):\n",
    "            # Look for the setence in cat_combined where the sources of the sentences match\n",
    "            corrected = cat_combined[cat_combined_systems.index(span_new[i][category][j][1])]\n",
    "            \n",
    "            # Copy the contents of the sentence and the edit from cat_combined to span\n",
    "            span_new[i][category][j] = corrected"
   ]
  },
  {
   "cell_type": "code",
   "execution_count": 4,
   "metadata": {},
   "outputs": [],
   "source": [
    "with open('../data/first_batch_span_fixing_fixed.json', 'w') as f:\n",
    "    json.dump(span_new, f)"
   ]
  },
  {
   "cell_type": "code",
   "execution_count": 5,
   "metadata": {},
   "outputs": [],
   "source": [
    "# Use this if we want to see whether our correction code is correct\n",
    "span = copy.deepcopy(span_new)"
   ]
  },
  {
   "cell_type": "markdown",
   "metadata": {
    "tags": []
   },
   "source": [
    "## Understand the errors being created"
   ]
  },
  {
   "cell_type": "code",
   "execution_count": 6,
   "metadata": {},
   "outputs": [
    {
     "name": "stdout",
     "output_type": "stream",
     "text": [
      "Checking HIT 0...\n",
      "Checking HIT 1...\n",
      "Checking HIT 2...\n",
      "Checking HIT 3...\n",
      "Checking HIT 4...\n",
      "Checking HIT 5...\n",
      "Checking HIT 6...\n",
      "Checking HIT 7...\n",
      "Checking HIT 8...\n",
      "Checking HIT 9...\n",
      "Checking HIT 10...\n",
      "Checking HIT 11...\n",
      "Checking HIT 12...\n",
      "Checking HIT 13...\n",
      "Checking HIT 14...\n",
      "Checking HIT 15...\n",
      "Checking HIT 16...\n",
      "Checking HIT 17...\n",
      "Checking HIT 18...\n",
      "Checking HIT 19...\n",
      "Done!\n"
     ]
    }
   ],
   "source": [
    "for i in range(len(cat)):\n",
    "    print(f'Checking HIT {i}...')\n",
    "    cat_sent = cat[i]['Deletions'] + cat[i]['Paraphrases'] + cat[i]['Splittings']\n",
    "    span_sent = span[i]['Deletions'] + span[i]['Paraphrases'] + span[i]['Splittings']\n",
    "    \n",
    "    # Amount of sentences are the same\n",
    "    if (len(cat_sent) != len(span_sent)):\n",
    "        print(\"arrays different lengths\")\n",
    "        \n",
    "    cat_sorted = sorted(cat_sent, key=lambda x: x[0])\n",
    "    span_sorted = sorted(span_sent, key=lambda x: x[0])\n",
    "    \n",
    "    # Contents of sentences are the same\n",
    "    cat_sent_only = [x[0] for x in cat_sorted]\n",
    "    span_sent_only = [x[0] for x in span_sorted]\n",
    "    for j in range(len(cat_sent_only)):\n",
    "        if (cat_sent_only[j] != span_sent_only[j]):\n",
    "            print(f\"{j} is different\")\n",
    "            \n",
    "    # Edits are the same, even if they are out of order\n",
    "    for j in range(len(cat_sent)):\n",
    "        cat_edits = sorted(cat_sorted[j][2:], key=lambda x: x[1])\n",
    "        span_edits = sorted(span_sorted[j][2:], key=lambda x: x[1])\n",
    "        if (len(cat_edits) != len(span_edits)):\n",
    "            print(f'Different amounts of edits on sent {j}: \\n\\t {cat_edits} \\n\\t {span_edits}') #\\n\\t on  {cat_sent[j]} \\n\\t and {span_sent[j]}')        \n",
    "        else:\n",
    "            for k in range(len(cat_edits)):\n",
    "                for l in range(len(cat_edits[0])):\n",
    "                    if (cat_edits[k][l] != span_edits[k][l]):\n",
    "                        print(f'Error contents of edit have changed on sent {j}')\n",
    "print('Done!')"
   ]
  },
  {
   "cell_type": "markdown",
   "metadata": {
    "tags": []
   },
   "source": [
    "### For testing"
   ]
  },
  {
   "cell_type": "code",
   "execution_count": 7,
   "metadata": {},
   "outputs": [],
   "source": [
    "i = 0\n",
    "cat_sent = cat[i]['Deletions'] + cat[i]['Paraphrases'] + cat[i]['Splittings']\n",
    "span_sent = span[i]['Deletions'] + span[i]['Paraphrases'] + span[i]['Splittings']"
   ]
  },
  {
   "cell_type": "code",
   "execution_count": 8,
   "metadata": {},
   "outputs": [],
   "source": [
    "# Amount of sentences are the same\n",
    "if (len(cat_sent) != len(span_sent)):\n",
    "    print(\"arrays different lengths\")\n",
    "\n",
    "# Contents of sentences are the same\n",
    "cat_sorted = sorted([x[0] for x in cat_sent])\n",
    "span_sorted = sorted([x[0] for x in span_sent])\n",
    "for j in range(len(cat_sorted)):\n",
    "    if (cat_sorted[j] != span_sorted[j]):\n",
    "        print(f\"{j} is different\")"
   ]
  },
  {
   "cell_type": "code",
   "execution_count": 9,
   "metadata": {
    "tags": []
   },
   "outputs": [],
   "source": [
    "# Edits are the same, even if they are out of order\n",
    "for j in range(len(cat_sent)):\n",
    "    cat_edits = sorted(cat_sent[j][2:], key=lambda x: x[1])\n",
    "    span_edits = sorted(span_sent[j][2:], key=lambda x: x[1])\n",
    "    if (len(cat_edits) != len(span_edits)):\n",
    "        print(f'Different amounts of edits on sent {j}: \\n\\t {cat_edits} \\n\\t {span_edits}') #\\n\\t on  {cat_sent[j]} \\n\\t and {span_sent[j]}')        \n",
    "    else:\n",
    "        for k in range(len(cat_edits)):\n",
    "            for l in range(len(cat_edits[0])):\n",
    "                if (cat_edits[k][l] != span_edits[k][l]):\n",
    "                    print(f'Error contents of edit have changed on sent {j}')"
   ]
  }
 ],
 "metadata": {
  "kernelspec": {
   "display_name": "Python 3 Root Install",
   "language": "python",
   "name": "python3"
  },
  "language_info": {
   "codemirror_mode": {
    "name": "ipython",
    "version": 3
   },
   "file_extension": ".py",
   "mimetype": "text/x-python",
   "name": "python",
   "nbconvert_exporter": "python",
   "pygments_lexer": "ipython3",
   "version": "3.9.0"
  }
 },
 "nbformat": 4,
 "nbformat_minor": 4
}
