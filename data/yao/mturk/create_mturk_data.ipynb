{
 "cells": [
  {
   "cell_type": "code",
   "execution_count": 1,
   "metadata": {},
   "outputs": [],
   "source": [
    "import pandas as pd\n",
    "\n",
    "annotator_list = [\"rachel\", \"marcus\", \"vishnesh\", \"elizabeth\"]\n",
    "\n",
    "for annotator_name in annotator_list:\n",
    "    for i in [1, 2, 3]:\n",
    "        # if i == 1, ids = [0..32], if i == 2, ids = [33..65], if i == 3, ids = [66..99]\n",
    "        if i == 1:\n",
    "            ids = list(range(33))\n",
    "            batch_names = [f\"yao/18_systems_annotations/{annotator_name}/new_batches/batch_{i}\"] * 33\n",
    "        elif i == 2:\n",
    "            ids = list(range(33, 66))\n",
    "            batch_names = [f\"yao/18_systems_annotations/{annotator_name}/new_batches/batch_{i}\"] * 33\n",
    "        else:\n",
    "            ids = (range(66, 100))\n",
    "            batch_names = [f\"yao/18_systems_annotations/{annotator_name}/new_batches/batch_{i}\"] * 34\n",
    "\n",
    "        df = pd.DataFrame({\"id\": ids, \"batch_name\": batch_names})\n",
    "        df.to_csv(f\"data/{annotator_name}_batch_{i}.csv\", index=False)\n",
    "\n",
    "    \n",
    "    "
   ]
  },
  {
   "cell_type": "code",
   "execution_count": null,
   "metadata": {},
   "outputs": [],
   "source": []
  }
 ],
 "metadata": {
  "kernelspec": {
   "display_name": "Python 3.9.12 ('paraphrase')",
   "language": "python",
   "name": "python3"
  },
  "language_info": {
   "codemirror_mode": {
    "name": "ipython",
    "version": 3
   },
   "file_extension": ".py",
   "mimetype": "text/x-python",
   "name": "python",
   "nbconvert_exporter": "python",
   "pygments_lexer": "ipython3",
   "version": "3.9.12"
  },
  "orig_nbformat": 4,
  "vscode": {
   "interpreter": {
    "hash": "51d4b053945bb951b16f24566ff3322f1cf2f2e71937c6e2fa134fa8352168a0"
   }
  }
 },
 "nbformat": 4,
 "nbformat_minor": 2
}
