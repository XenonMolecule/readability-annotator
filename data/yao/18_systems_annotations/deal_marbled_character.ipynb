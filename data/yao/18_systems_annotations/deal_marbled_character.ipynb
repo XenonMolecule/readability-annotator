{
 "cells": [
  {
   "cell_type": "code",
   "execution_count": 1,
   "metadata": {},
   "outputs": [],
   "source": [
    "import json\n",
    "\n",
    "# read json file\n",
    "with open('../18_systems_dict.json', 'r') as f:\n",
    "    outputs_dict = json.load(f)\n",
    "\n",
    "def get_un_matched_sentences(annotator_name):\n",
    "    # read json file\n",
    "    with open(annotator_name + '/total.json', 'r') as f:\n",
    "        annotations = json.load(f)\n",
    "    \n",
    "    for annotation in annotations:\n",
    "        original_sentence = annotation['Original']\n",
    "        type_list = ['Deletions', 'Paraphrases', 'Splittings']\n",
    "        for change_type in type_list:\n",
    "            type_annotations = annotation[change_type]\n",
    "            for type_annotation in type_annotations:\n",
    "                system = type_annotation[2]\n",
    "                simplified_sentence = type_annotation[1]\n",
    "                if outputs_dict[original_sentence][system] != simplified_sentence and \"||\" not in simplified_sentence:\n",
    "                    print(outputs_dict[original_sentence][system], system, simplified_sentence)\n",
    "            \n"
   ]
  },
  {
   "cell_type": "code",
   "execution_count": 2,
   "metadata": {},
   "outputs": [
    {
     "name": "stdout",
     "output_type": "stream",
     "text": [
      "A matchbook is a small box  with a strip for lighting matches. systems/asset.test.simp A matchbook is a small box with a strip for lighting matches.\n",
      "On 16 June 2009 the official release date of the resistance was announced on the band &apos; s website. systems/SEMoses_all.txt On 16 June 2009 the official release date of the resistance was announced on the band ' s website.\n",
      "Dr David lindenmeyer ( Australian national university ) has argued that the need for nest boxes indicates that logging practices are not ecologically sustainable for conserve hollow dependent species like Leadbeater &apos; s possum. systems/SEMoses_all.txt Dr David lindenmeyer ( Australian national university ) has argued that the need for nest boxes indicates that logging practices are not ecologically sustainable for conserve hollow dependent species like Leadbeater ' s possum.\n",
      "\" the zephyr song \" systems/Dress-Ls.lower \" The zephyr song \"\n",
      "The singles from the album included by the way the Zephyr song ca n &apos;t stop function and universally speaking. systems/SEMoses_all.txt The singles from the album included by the way the Zephyr song ca n 't stop function and universally speaking.\n",
      "The ideal is good for these , hog deer and blue bull. systems/lstm_w_split.txt The Ideal Is Good for these , hog deer and blue bull.\n"
     ]
    }
   ],
   "source": [
    "get_un_matched_sentences('alex')"
   ]
  }
 ],
 "metadata": {
  "kernelspec": {
   "display_name": "Python 3.9.12 ('paraphrase')",
   "language": "python",
   "name": "python3"
  },
  "language_info": {
   "codemirror_mode": {
    "name": "ipython",
    "version": 3
   },
   "file_extension": ".py",
   "mimetype": "text/x-python",
   "name": "python",
   "nbconvert_exporter": "python",
   "pygments_lexer": "ipython3",
   "version": "3.9.12"
  },
  "orig_nbformat": 4,
  "vscode": {
   "interpreter": {
    "hash": "51d4b053945bb951b16f24566ff3322f1cf2f2e71937c6e2fa134fa8352168a0"
   }
  }
 },
 "nbformat": 4,
 "nbformat_minor": 2
}
