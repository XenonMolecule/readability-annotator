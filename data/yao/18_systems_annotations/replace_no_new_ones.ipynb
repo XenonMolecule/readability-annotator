{
 "cells": [
  {
   "cell_type": "code",
   "execution_count": 3,
   "metadata": {},
   "outputs": [],
   "source": [
    "import json\n",
    "# read total_100_original_sentences.json\n",
    "with open('total_100_original_sentences.json', 'r') as f:\n",
    "    total_100_original_sentences = json.load(f)\n",
    "\n",
    "# read three_new_systems_input.json\n",
    "with open('../systems/three_new_systems_input.json') as f:\n",
    "    three_new_systems_input = json.load(f)"
   ]
  },
  {
   "cell_type": "code",
   "execution_count": 7,
   "metadata": {},
   "outputs": [],
   "source": [
    "outside_original_sentences = []\n",
    "for group in three_new_systems_input:\n",
    "    original_sentence = group['Original']\n",
    "    if original_sentence not in total_100_original_sentences:\n",
    "        outside_original_sentences.append(original_sentence)"
   ]
  },
  {
   "cell_type": "code",
   "execution_count": 8,
   "metadata": {},
   "outputs": [
    {
     "data": {
      "text/plain": [
       "251"
      ]
     },
     "execution_count": 8,
     "metadata": {},
     "output_type": "execute_result"
    }
   ],
   "source": [
    "len(outside_original_sentences)"
   ]
  },
  {
   "cell_type": "code",
   "execution_count": 9,
   "metadata": {},
   "outputs": [
    {
     "data": {
      "text/plain": [
       "['The Sheppard line currently has fewer users than the other two subway lines, and shorter trains are run.',\n",
       " 'Iain Grieve (born 19 February, 1987 in Jwaneng, Botswana) is a rugby union back-rower for Bristol Rugby in the Guinness Premiership.',\n",
       " 'MacGruber starts asking for simple objects to make something to defuse the bomb, but he is later distracted by something (usually involving his personal life) that makes him run out of time.',\n",
       " 'From the telephone exchange, the Port Jackson District Commandant could communicate with all military installations on the harbour.',\n",
       " 'The tongue is sticky because of the presence of glycoprotein-rich mucous, which both lubricates movement in and out of the snout and helps to catch ants and termites, which adhere to it.']"
      ]
     },
     "execution_count": 9,
     "metadata": {},
     "output_type": "execute_result"
    }
   ],
   "source": [
    "import random\n",
    "\n",
    "# set seed = 2\n",
    "random.seed(2)\n",
    "# random sample 5 sentences from outside_original_sentences\n",
    "random.sample(outside_original_sentences, 5)"
   ]
  },
  {
   "cell_type": "code",
   "execution_count": null,
   "metadata": {},
   "outputs": [],
   "source": [
    "'MacGruber starts asking for simple objects to make something to defuse the bomb, but he is later distracted by something (usually involving his personal life) that makes him run out of time.'"
   ]
  },
  {
   "cell_type": "code",
   "execution_count": 13,
   "metadata": {},
   "outputs": [
    {
     "name": "stdout",
     "output_type": "stream",
     "text": [
      "new_systems/turk_corpus_random.txt\n",
      "new_systems/turk_corpus_random.txt\n",
      "new_systems/turk_corpus_random.txt\n",
      "new_systems/turk_corpus_random.txt\n",
      "new_systems/turk_corpus_random.txt\n",
      "new_systems/turk_corpus_random.txt\n",
      "new_systems/turk_corpus_random.txt\n",
      "new_systems/turk_corpus_random.txt\n",
      "new_systems/turk_corpus_random.txt\n",
      "new_systems/turk_corpus_random.txt\n",
      "new_systems/turk_corpus_random.txt\n",
      "new_systems/turk_corpus_random.txt\n",
      "new_systems/turk_corpus_random.txt\n",
      "new_systems/turk_corpus_random.txt\n",
      "new_systems/turk_corpus_random.txt\n",
      "15\n"
     ]
    }
   ],
   "source": [
    "# see whether human is the same as the original sentence\n",
    "same_num = 0\n",
    "for group in three_new_systems_input:\n",
    "    if group['Original'] in total_100_original_sentences:\n",
    "        operations = [\"Deletions\", \"Paraphrases\", \"Splittings\"]\n",
    "        for operation in operations:\n",
    "            for i in range(len(group[operation])):\n",
    "                if group[operation][i][0] == group['Original']:\n",
    "                    same_num += 1\n",
    "                    print(group[operation][i][1])\n",
    "                    # break\n",
    "\n",
    "print(same_num)"
   ]
  },
  {
   "cell_type": "code",
   "execution_count": null,
   "metadata": {},
   "outputs": [],
   "source": []
  }
 ],
 "metadata": {
  "kernelspec": {
   "display_name": "Python 3.9.12 ('paraphrase')",
   "language": "python",
   "name": "python3"
  },
  "language_info": {
   "codemirror_mode": {
    "name": "ipython",
    "version": 3
   },
   "file_extension": ".py",
   "mimetype": "text/x-python",
   "name": "python",
   "nbconvert_exporter": "python",
   "pygments_lexer": "ipython3",
   "version": "3.9.12"
  },
  "orig_nbformat": 4,
  "vscode": {
   "interpreter": {
    "hash": "51d4b053945bb951b16f24566ff3322f1cf2f2e71937c6e2fa134fa8352168a0"
   }
  }
 },
 "nbformat": 4,
 "nbformat_minor": 2
}
