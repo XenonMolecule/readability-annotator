{
 "cells": [
  {
   "cell_type": "code",
   "execution_count": 1,
   "metadata": {},
   "outputs": [
    {
     "name": "stdout",
     "output_type": "stream",
     "text": [
      "99\n",
      "98\n",
      "99\n",
      "99\n",
      "100\n"
     ]
    }
   ],
   "source": [
    "import json\n",
    "\n",
    "annotator_list = ['alex', 'elizabeth', 'rachel', 'marcus', 'vishnesh']\n",
    "for annotator_name in annotator_list:\n",
    "    directory = '' + annotator_name + '/'\n",
    "    total_data = []\n",
    "    original_sentences = []\n",
    "    for filename in os.listdir(directory):\n",
    "        if filename.endswith(\".json\") and filename != \"total.json\":\n",
    "            with open(directory + filename) as f:\n",
    "                data = json.load(f)\n",
    "                total_data.extend(data)\n",
    "    print(len(total_data))\n",
    "    with open(directory + 'total.json', 'w') as f:\n",
    "        json.dump(total_data, f)"
   ]
  },
  {
   "cell_type": "code",
   "execution_count": null,
   "metadata": {},
   "outputs": [],
   "source": []
  }
 ],
 "metadata": {
  "kernelspec": {
   "display_name": "Python 3.9.12 ('paraphrase')",
   "language": "python",
   "name": "python3"
  },
  "language_info": {
   "codemirror_mode": {
    "name": "ipython",
    "version": 3
   },
   "file_extension": ".py",
   "mimetype": "text/x-python",
   "name": "python",
   "nbconvert_exporter": "python",
   "pygments_lexer": "ipython3",
   "version": "3.9.12"
  },
  "orig_nbformat": 4,
  "vscode": {
   "interpreter": {
    "hash": "51d4b053945bb951b16f24566ff3322f1cf2f2e71937c6e2fa134fa8352168a0"
   }
  }
 },
 "nbformat": 4,
 "nbformat_minor": 2
}
