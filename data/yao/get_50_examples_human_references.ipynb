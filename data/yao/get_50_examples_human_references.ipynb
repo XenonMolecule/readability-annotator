{
 "cells": [
  {
   "cell_type": "code",
   "execution_count": 1,
   "metadata": {},
   "outputs": [],
   "source": [
    "import json\n",
    "\n",
    "# read systems/three_new_systems_input.json\n",
    "with open(\"systems/three_new_systems_input.json\", \"r\") as f:\n",
    "    three_systems_data = json.load(f)"
   ]
  },
  {
   "cell_type": "code",
   "execution_count": 2,
   "metadata": {},
   "outputs": [],
   "source": [
    "# sample 20 examples from three_systems_data\n",
    "import random\n",
    "random.seed(0)\n",
    "random.shuffle(three_systems_data)\n",
    "\n",
    "new_three_systems_data = []\n",
    "total = 20\n",
    "for i in three_systems_data:\n",
    "    if len(i[\"Original\"].split()) > 15:\n",
    "        new_three_systems_data.append(i)\n",
    "three_systems_data = new_three_systems_data[:20]"
   ]
  },
  {
   "cell_type": "code",
   "execution_count": 3,
   "metadata": {},
   "outputs": [],
   "source": [
    "output_data = []\n",
    "id = 0\n",
    "for instance in three_systems_data:\n",
    "    original_sentence = instance[\"Original\"]\n",
    "    categories = [\"Deletions\", \"Paraphrases\", \"Splittings\"]\n",
    "    for category in categories:\n",
    "        for i, system_output in enumerate(instance[category]):\n",
    "            sentence = system_output[0]\n",
    "            if sentence != original_sentence:\n",
    "                output_data.append({\n",
    "                    \"id\": id,\n",
    "                    \"original\": original_sentence,\n",
    "                    \"original_spans\": [],\n",
    "                    \"simplified\": sentence,\n",
    "                    \"simplified_spans\": [],\n",
    "                    \"system\": system_output[1]\n",
    "                })\n",
    "                id += 1"
   ]
  },
  {
   "cell_type": "code",
   "execution_count": 4,
   "metadata": {},
   "outputs": [
    {
     "data": {
      "text/plain": [
       "{'id': 0,\n",
       " 'original': 'Convinced that the grounds were haunted, they decided to publish their findings in a book An Adventure (1911), under the pseudonyms of Elizabeth Morison and Frances Lamont.',\n",
       " 'original_spans': [],\n",
       " 'simplified': 'Convinced that the grounds were visited by souls, they decided to publish their findings in a book An Adventure (1911), under the false name of Elizabeth Morison and Frances Lamont.',\n",
       " 'simplified_spans': [],\n",
       " 'system': 'new_systems/turk_corpus_random.txt'}"
      ]
     },
     "execution_count": 4,
     "metadata": {},
     "output_type": "execute_result"
    }
   ],
   "source": [
    "output_data[0]"
   ]
  },
  {
   "cell_type": "code",
   "execution_count": 5,
   "metadata": {},
   "outputs": [],
   "source": [
    "# save output_data to human_references_58.json\n",
    "with open(\"human_references_58.json\", \"w\") as f:\n",
    "    json.dump(output_data, f, indent=4)"
   ]
  },
  {
   "cell_type": "code",
   "execution_count": null,
   "metadata": {},
   "outputs": [],
   "source": []
  }
 ],
 "metadata": {
  "kernelspec": {
   "display_name": "Python 3.9.12 ('paraphrase')",
   "language": "python",
   "name": "python3"
  },
  "language_info": {
   "codemirror_mode": {
    "name": "ipython",
    "version": 3
   },
   "file_extension": ".py",
   "mimetype": "text/x-python",
   "name": "python",
   "nbconvert_exporter": "python",
   "pygments_lexer": "ipython3",
   "version": "3.9.12"
  },
  "orig_nbformat": 4,
  "vscode": {
   "interpreter": {
    "hash": "51d4b053945bb951b16f24566ff3322f1cf2f2e71937c6e2fa134fa8352168a0"
   }
  }
 },
 "nbformat": 4,
 "nbformat_minor": 2
}
